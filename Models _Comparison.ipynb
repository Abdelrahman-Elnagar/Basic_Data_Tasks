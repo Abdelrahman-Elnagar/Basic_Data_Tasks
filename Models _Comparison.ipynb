{
  "nbformat": 4,
  "nbformat_minor": 0,
  "metadata": {
    "colab": {
      "provenance": [],
      "authorship_tag": "ABX9TyNyRGuj+jG5YLdLFzw1C7Pq",
      "include_colab_link": true
    },
    "kernelspec": {
      "name": "python3",
      "display_name": "Python 3"
    },
    "language_info": {
      "name": "python"
    }
  },
  "cells": [
    {
      "cell_type": "markdown",
      "metadata": {
        "id": "view-in-github",
        "colab_type": "text"
      },
      "source": [
        "<a href=\"https://colab.research.google.com/github/Abdelrahman-Elnagar/Basic_Data_Tasks/blob/main/Final_DS_Task_2.ipynb\" target=\"_parent\"><img src=\"https://colab.research.google.com/assets/colab-badge.svg\" alt=\"Open In Colab\"/></a>"
      ]
    },
    {
      "cell_type": "markdown",
      "source": [
        "Clara Amir Hakim Zaher          10002591\n",
        "Abdelrahman Ali Hasan Elnagar   10006921"
      ],
      "metadata": {
        "id": "lmMaRcQEZ6Ik"
      }
    },
    {
      "cell_type": "code",
      "execution_count": null,
      "metadata": {
        "colab": {
          "base_uri": "https://localhost:8080/"
        },
        "id": "1h30Q20kMIzB",
        "outputId": "461418bf-5a44-42ab-b13d-423b673002a1"
      },
      "outputs": [
        {
          "output_type": "stream",
          "name": "stdout",
          "text": [
            "Requirement already satisfied: pandas in /usr/local/lib/python3.10/dist-packages (2.0.3)\n",
            "Requirement already satisfied: python-dateutil>=2.8.2 in /usr/local/lib/python3.10/dist-packages (from pandas) (2.8.2)\n",
            "Requirement already satisfied: pytz>=2020.1 in /usr/local/lib/python3.10/dist-packages (from pandas) (2023.4)\n",
            "Requirement already satisfied: tzdata>=2022.1 in /usr/local/lib/python3.10/dist-packages (from pandas) (2024.1)\n",
            "Requirement already satisfied: numpy>=1.21.0 in /usr/local/lib/python3.10/dist-packages (from pandas) (1.25.2)\n",
            "Requirement already satisfied: six>=1.5 in /usr/local/lib/python3.10/dist-packages (from python-dateutil>=2.8.2->pandas) (1.16.0)\n"
          ]
        }
      ],
      "source": [
        "!pip install pandas"
      ]
    },
    {
      "cell_type": "code",
      "source": [
        "import matplotlib.pyplot as plt\n",
        "import numpy as np\n",
        "import seaborn as sns\n",
        "import matplotlib.pyplot as plt\n",
        "import pandas as pd"
      ],
      "metadata": {
        "id": "eR42hBvkMQrN"
      },
      "execution_count": null,
      "outputs": []
    },
    {
      "cell_type": "code",
      "source": [
        "df = pd.read_csv(\"/content/CarPrice_Assignment.csv\")"
      ],
      "metadata": {
        "id": "G15TXWr3MUQj"
      },
      "execution_count": null,
      "outputs": []
    },
    {
      "cell_type": "code",
      "source": [
        "#Let's clean the dataset\n",
        "\n",
        "#to check whether or not there are duplicates in the data\n",
        "duplicate_rows = df.duplicated()\n",
        "print(sum(duplicate_rows))\n",
        "\n",
        "#check if data contain any missing values\n",
        "df.isnull().values.any()\n",
        "\n",
        "from sklearn.preprocessing import LabelEncoder\n",
        "\n",
        "df_copy = df.copy()\n",
        "label_encoder = LabelEncoder()\n",
        "\n",
        "# Apply label encoding to each column\n",
        "for col in df_copy.columns:\n",
        "    df_copy[col] = label_encoder.fit_transform(df_copy[col])\n",
        "\n",
        "df_copy.to_csv('encoded_dataset.csv', index=False)"
      ],
      "metadata": {
        "colab": {
          "base_uri": "https://localhost:8080/"
        },
        "id": "QRsOP9WCMXNz",
        "outputId": "e89d27d2-a3a5-4539-cf8d-ec8114c33c7e"
      },
      "execution_count": null,
      "outputs": [
        {
          "output_type": "stream",
          "name": "stdout",
          "text": [
            "0\n"
          ]
        }
      ]
    },
    {
      "cell_type": "markdown",
      "source": [
        "I have looped and examined all the k from 1 to 10 to find out that k=1 results in the best accuracy possible"
      ],
      "metadata": {
        "id": "KxTjYGGaEbtQ"
      }
    },
    {
      "cell_type": "code",
      "source": [
        "import numpy as np\n",
        "import pandas as pd\n",
        "from sklearn.model_selection import train_test_split\n",
        "from sklearn.preprocessing import KBinsDiscretizer\n",
        "from sklearn.neighbors import KNeighborsClassifier\n",
        "from sklearn.metrics import accuracy_score, confusion_matrix, precision_score, recall_score, f1_score\n",
        "import matplotlib.pyplot as plt\n",
        "import seaborn as sns\n",
        "\n",
        "# Step 1: Load the dataset\n",
        "# Replace 'your_data.csv' with the path to your dataset\n",
        "data = pd.read_csv('encoded_dataset.csv')\n",
        "\n",
        "# Step 2: Preprocess the data\n",
        "# Discretize the target variable 'price' into classes\n",
        "bins = 4  # Adjust the number of bins as needed\n",
        "discretizer = KBinsDiscretizer(n_bins=bins, encode='ordinal', strategy='quantile')\n",
        "data['price_class'] = discretizer.fit_transform(data[['price']])\n",
        "\n",
        "# Step 3: Split the data into training and testing sets\n",
        "X = data.drop(['price', 'price_class'], axis=1)  # Features\n",
        "y = data['price_class']  # Target variable\n",
        "X_train, X_test, y_train, y_test = train_test_split(X, y, test_size=0.2, random_state=42)\n",
        "\n",
        "# Step 4: Train the KNN classifier\n",
        "k = 1  # Adjust the number of neighbors as needed\n",
        "knn_classifier = KNeighborsClassifier(n_neighbors=k)\n",
        "knn_classifier.fit(X_train, y_train)\n",
        "\n",
        "# Step 5: Evaluate the classifier\n",
        "# Predictions\n",
        "y_pred = knn_classifier.predict(X_test)\n",
        "\n",
        "# Accuracy\n",
        "accuracy = accuracy_score(y_test, y_pred)\n",
        "print(\"Accuracy:\", accuracy)\n",
        "\n",
        "# Confusion Matrix\n",
        "conf_matrix = confusion_matrix(y_test, y_pred)\n",
        "print(\"Confusion Matrix:\")\n",
        "print(conf_matrix)\n",
        "\n",
        "# Recall\n",
        "recall = recall_score(y_test, y_pred, average='weighted')\n",
        "print(\"Recall:\", recall)\n",
        "\n",
        "# Precision\n",
        "precision = precision_score(y_test, y_pred, average='weighted')\n",
        "print(\"Precision:\", precision)\n",
        "\n",
        "# F1-score\n",
        "f1 = f1_score(y_test, y_pred, average='weighted')\n",
        "print(\"F1-score:\", f1)\n",
        "\n",
        "# Plot Confusion Matrix\n",
        "plt.figure(figsize=(8, 6))\n",
        "sns.heatmap(conf_matrix, annot=True, fmt='d', cmap='Blues', cbar=False, square=True)\n",
        "plt.xlabel('Predicted')\n",
        "plt.ylabel('Actual')\n",
        "plt.title('Confusion Matrix')\n",
        "plt.show()"
      ],
      "metadata": {
        "colab": {
          "base_uri": "https://localhost:8080/",
          "height": 720
        },
        "id": "FA_A8IOnNYM0",
        "outputId": "35890a31-15fc-4e6a-834f-108b3cb85cc0"
      },
      "execution_count": null,
      "outputs": [
        {
          "output_type": "stream",
          "name": "stdout",
          "text": [
            "Accuracy: 0.7804878048780488\n",
            "Confusion Matrix:\n",
            "[[7 1 0 0]\n",
            " [6 8 1 0]\n",
            " [0 0 8 1]\n",
            " [0 0 0 9]]\n",
            "Recall: 0.7804878048780488\n",
            "Precision: 0.8229518449030643\n",
            "F1-score: 0.7770646127513907\n"
          ]
        },
        {
          "output_type": "display_data",
          "data": {
            "text/plain": [
              "<Figure size 800x600 with 1 Axes>"
            ],
            "image/png": "[encoded data removed]"
          },
          "metadata": {}
        }
      ]
    },
    {
      "cell_type": "code",
      "source": [
        "#KNN Regressor\n",
        "\n",
        "import numpy as np\n",
        "import pandas as pd\n",
        "from sklearn.model_selection import train_test_split\n",
        "from sklearn.neighbors import KNeighborsRegressor\n",
        "from sklearn.metrics import mean_squared_error, r2_score\n",
        "\n",
        "# Step 1: Load the dataset\n",
        "# Replace 'your_data.csv' with the path to your dataset\n",
        "data = pd.read_csv('encoded_dataset.csv')\n",
        "\n",
        "# Step 2: Split the data into features and target variable\n",
        "X = data.drop('price', axis=1)  # Features\n",
        "y = data['price']  # Target variable\n",
        "\n",
        "# Step 3: Split the data into training and testing sets\n",
        "X_train, X_test, y_train, y_test = train_test_split(X, y, test_size=0.2, random_state=42)\n",
        "\n",
        "# Step 4: Train the KNN regressor\n",
        "k = 3  # Adjust the number of neighbors as needed\n",
        "knn_regressor = KNeighborsRegressor(n_neighbors=k)\n",
        "knn_regressor.fit(X_train, y_train)\n",
        "\n",
        "# Step 5: Evaluate the regressor\n",
        "# Predictions\n",
        "y_pred = knn_regressor.predict(X_test)\n",
        "\n",
        "# Mean Squared Error (MSE)\n",
        "mse = mean_squared_error(y_test, y_pred)\n",
        "print(\"Mean Squared Error:\", mse)\n",
        "\n",
        "# R-squared score\n",
        "r2 = r2_score(y_test, y_pred)\n",
        "print(\"R-squared Score:\", r2)\n"
      ],
      "metadata": {
        "colab": {
          "base_uri": "https://localhost:8080/"
        },
        "id": "IkIiWbchPsnH",
        "outputId": "e21c8b9c-2bf9-41c5-c84d-09f805d15eef"
      },
      "execution_count": null,
      "outputs": [
        {
          "output_type": "stream",
          "name": "stdout",
          "text": [
            "Mean Squared Error: 361.0975609756098\n",
            "R-squared Score: 0.8705512764136132\n"
          ]
        }
      ]
    },
    {
      "cell_type": "code",
      "source": [
        "import numpy as np\n",
        "import pandas as pd\n",
        "from sklearn.model_selection import train_test_split\n",
        "from sklearn.naive_bayes import GaussianNB\n",
        "from sklearn.metrics import accuracy_score, confusion_matrix, precision_score, recall_score\n",
        "import matplotlib.pyplot as plt\n",
        "import seaborn as sns\n",
        "\n",
        "# Step 1: Load the dataset\n",
        "# Replace 'your_data.csv' with the path to your dataset\n",
        "data = pd.read_csv('encoded_dataset.csv')\n",
        "\n",
        "# Step 2: Convert the continuous target variable into discrete classes\n",
        "# For example, you can bin the 'price' column into categories\n",
        "bins = 4  # Adjust the number of bins as needed\n",
        "data['price_class'] = pd.cut(data['price'], bins=bins, labels=False)\n",
        "\n",
        "# Step 3: Split the data into features and target variable\n",
        "X = data.drop(['price', 'price_class'], axis=1)  # Features\n",
        "y = data['price_class']  # Target variable\n",
        "\n",
        "# Step 4: Split the data into training and testing sets\n",
        "X_train, X_test, y_train, y_test = train_test_split(X, y, test_size=0.2, random_state=42)\n",
        "\n",
        "# Step 5: Train the Gaussian Naive Bayes classifier\n",
        "naive_bayes_classifier = GaussianNB()\n",
        "naive_bayes_classifier.fit(X_train, y_train)\n",
        "\n",
        "# Step 6: Evaluate the classifier\n",
        "# Predictions\n",
        "y_pred = naive_bayes_classifier.predict(X_test)\n",
        "\n",
        "# a) Accuracy\n",
        "accuracy = accuracy_score(y_test, y_pred)\n",
        "print(\"Accuracy:\", accuracy)\n",
        "\n",
        "# b) Confusion Matrix\n",
        "conf_matrix = confusion_matrix(y_test, y_pred)\n",
        "print(\"Confusion Matrix:\")\n",
        "print(conf_matrix)\n",
        "\n",
        "# c) Recall\n",
        "recall = recall_score(y_test, y_pred, average='weighted')\n",
        "print(\"Recall:\", recall)\n",
        "\n",
        "# d) Precision\n",
        "precision = precision_score(y_test, y_pred, average='weighted')\n",
        "print(\"Precision:\", precision)\n",
        "\n",
        "# F1-score\n",
        "f1 = f1_score(y_test, y_pred, average='weighted')\n",
        "print(\"F1-score:\", f1)\n",
        "\n",
        "# Plot Confusion Matrix\n",
        "plt.figure(figsize=(8, 6))\n",
        "sns.heatmap(conf_matrix, annot=True, fmt='d', cmap='Blues', cbar=False, square=True)\n",
        "plt.xlabel('Predicted')\n",
        "plt.ylabel('Actual')\n",
        "plt.title('Confusion Matrix')\n",
        "plt.show()\n"
      ],
      "metadata": {
        "colab": {
          "base_uri": "https://localhost:8080/",
          "height": 720
        },
        "id": "t3jnPxtfQDlk",
        "outputId": "09f027b1-548e-424b-d1f7-8870b78f277e"
      },
      "execution_count": null,
      "outputs": [
        {
          "output_type": "stream",
          "name": "stdout",
          "text": [
            "Accuracy: 0.6341463414634146\n",
            "Confusion Matrix:\n",
            "[[5 4 1 0]\n",
            " [5 7 1 0]\n",
            " [0 1 8 0]\n",
            " [0 0 3 6]]\n",
            "Recall: 0.6341463414634146\n",
            "Precision: 0.6615071919949969\n",
            "F1-score: 0.6347671840354767\n"
          ]
        },
        {
          "output_type": "display_data",
          "data": {
            "text/plain": [
              "<Figure size 800x600 with 1 Axes>"
            ],
            "image/png": "[encoded data removed]"
          },
          "metadata": {}
        }
      ]
    },
    {
      "cell_type": "code",
      "source": [
        "import numpy as np\n",
        "import pandas as pd\n",
        "from sklearn.model_selection import train_test_split\n",
        "from sklearn.tree import DecisionTreeClassifier\n",
        "from sklearn.metrics import accuracy_score, confusion_matrix, precision_score, recall_score\n",
        "import matplotlib.pyplot as plt\n",
        "import seaborn as sns\n",
        "\n",
        "# Step 1: Load the dataset\n",
        "# Replace 'your_data.csv' with the path to your dataset\n",
        "data = pd.read_csv('encoded_dataset.csv')\n",
        "\n",
        "# Step 2: Convert the continuous target variable into discrete classes\n",
        "# For example, you can bin the 'price' column into categories\n",
        "bins = 4  # Adjust the number of bins as needed\n",
        "data['price_class'] = pd.cut(data['price'], bins=bins, labels=False)\n",
        "\n",
        "# Step 3: Split the data into features and target variable\n",
        "X = data.drop(['price', 'price_class'], axis=1)  # Features\n",
        "y = data['price_class']  # Target variable\n",
        "\n",
        "# Step 4: Split the data into training and testing sets\n",
        "X_train, X_test, y_train, y_test = train_test_split(X, y, test_size=0.2, random_state=42)\n",
        "\n",
        "# Step 5: Train the Decision Tree classifier\n",
        "decision_tree_classifier = DecisionTreeClassifier()\n",
        "decision_tree_classifier.fit(X_train, y_train)\n",
        "\n",
        "# Step 6: Evaluate the classifier\n",
        "# Predictions\n",
        "y_pred = decision_tree_classifier.predict(X_test)\n",
        "\n",
        "# a) Accuracy\n",
        "accuracy = accuracy_score(y_test, y_pred)\n",
        "print(\"Accuracy:\", accuracy)\n",
        "\n",
        "# b) Confusion Matrix\n",
        "conf_matrix = confusion_matrix(y_test, y_pred)\n",
        "print(\"Confusion Matrix:\")\n",
        "print(conf_matrix)\n",
        "\n",
        "# c) Recall\n",
        "recall = recall_score(y_test, y_pred, average='weighted')\n",
        "print(\"Recall:\", recall)\n",
        "\n",
        "# d) Precision\n",
        "precision = precision_score(y_test, y_pred, average='weighted')\n",
        "print(\"Precision:\", precision)\n",
        "\n",
        "# F1-score\n",
        "f1 = f1_score(y_test, y_pred, average='weighted')\n",
        "print(\"F1-score:\", f1)\n",
        "\n",
        "# Plot Confusion Matrix\n",
        "plt.figure(figsize=(8, 6))\n",
        "sns.heatmap(conf_matrix, annot=True, fmt='d', cmap='Blues', cbar=False, square=True)\n",
        "plt.xlabel('Predicted')\n",
        "plt.ylabel('Actual')\n",
        "plt.title('Confusion Matrix')\n",
        "plt.show()\n"
      ],
      "metadata": {
        "colab": {
          "base_uri": "https://localhost:8080/",
          "height": 720
        },
        "id": "_0gZsMlZRsQU",
        "outputId": "6ad90548-4e8c-488a-a832-649aaa244867"
      },
      "execution_count": null,
      "outputs": [
        {
          "output_type": "stream",
          "name": "stdout",
          "text": [
            "Accuracy: 0.6585365853658537\n",
            "Confusion Matrix:\n",
            "[[6 4 0 0]\n",
            " [5 8 0 0]\n",
            " [0 1 7 1]\n",
            " [0 0 3 6]]\n",
            "Recall: 0.6585365853658537\n",
            "Precision: 0.6699714919227113\n",
            "F1-score: 0.6608747478452227\n"
          ]
        },
        {
          "output_type": "display_data",
          "data": {
            "text/plain": [
              "<Figure size 800x600 with 1 Axes>"
            ],
            "image/png": "[encoded data removed]"
          },
          "metadata": {}
        }
      ]
    },
    {
      "cell_type": "markdown",
      "source": [
        "# so we got for KNN classifier with k=1 :\n",
        "**Accuracy**: 0.7804878048780488,\n",
        "**Recall**: 0.7804878048780488\n",
        "**Precision**: 0.8229518449030643\n",
        "**F1-score**: 0.7770646127513907\n",
        "\n",
        "# and for Naive Bayes :\n",
        "**Accuracy**: 0.6341463414634146 ,\n",
        "**Recall**: 0.6341463414634146\n",
        "**Precision**: 0.6615071919949969\n",
        "**F1-score**: 0.6347671840354767\n",
        "\n",
        "# and finally for Desicion Tree :\n",
        "**Accuracy**: 0.6341463414634146 ,\n",
        "**Recall**: 0.6341463414634146\n",
        "**Precision**: 0.6487224157955865\n",
        "**F1-score**: 0.6369786439491189\n",
        "\n",
        "# Our conclusion :\n",
        "The KNN classifier with k=1 performs the best across all metrics, having the highest accuracy, recall, precision, and F1-score.\n",
        "Naive Bayes and Decision Tree models have similar performance metrics, with Naive Bayes having slightly higher precision and Decision Tree having a slightly higher F1-score.\n",
        "Generally, the KNN classifier with k=1 seems to be the preferable choice among these three models for this particular problem based on the provided evaluation metrics.\n",
        "meanwhile when we used KNN classifier with k=3 , we reached a conclusion\n",
        "that Decision tree is better\n"
      ],
      "metadata": {
        "id": "wKYW51sVSKIy"
      }
    }
  ]
}
